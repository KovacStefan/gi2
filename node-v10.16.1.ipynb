{
 "cells": [
  {
   "cell_type": "code",
   "execution_count": 1,
   "id": "oriented-packaging",
   "metadata": {},
   "outputs": [
    {
     "name": "stdout",
     "output_type": "stream",
     "text": [
      "<pysam.libcalignmentfile.AlignmentFile object at 0x10828c5e0>\n",
      "<pysam.libcalignmentfile.IteratorRowAll object at 0x10a3629a0>\n",
      "1187\n",
      "0\n",
      "Total number of reads =  2921629\n",
      "Total number of unmapped reads =  17765\n",
      "Total number of reads with mapping_quality 0 =  126628\n",
      "Avg map quality =  55.91379158681681\n",
      "Avg mapping quality if reads with 0 are filtereed out =  58.446975510921106\n"
     ]
    }
   ],
   "source": [
    "#!/usr/bin/env python3\n",
    "import pysam\n",
    "\n",
    "save = pysam.set_verbosity(0)\n",
    "samfile = pysam.AlignmentFile(\"merged-tumor.bam\", \"rb\")\n",
    "pysam.set_verbosity(save)\n",
    "\n",
    "total = 0\n",
    "unmapped = 0\n",
    "mapQuality = 0\n",
    "totalMapQuality = 0\n",
    "i = 0\n",
    "j = 0\n",
    "for read in samfile.fetch(until_eof=True):\n",
    "     total += 1\n",
    "     second = int(int(read.flag) / 4) % 2\n",
    "     if second == 1:\n",
    "            unmapped += 1\n",
    "     if read.mapping_quality == 0:\n",
    "        mapQuality += 1\n",
    "     else:\n",
    "        i +=1\n",
    "        j+= read.mapping_quality\n",
    "     totalMapQuality += read.mapping_quality\n",
    "avgMapQuality = totalMapQuality / total\n",
    "avgFiltered = j / i\n",
    "        \n",
    "\n",
    "print(\"Total number of unmapped reads is \", unmapped)\n",
    "print(\"Total number of reads is \", total)\n",
    "print(\"Total number of reads with mapping quality 0 is \", mapQuality)\n",
    "print(\"Avg map quality is \", avgMapQuality)\n",
    "print(\"If reads with 0 are filtereed out is \", avgFiltered)\n",
    "\n",
    "samfile.close()"
   ]
  },
  {
   "cell_type": "code",
   "execution_count": null,
   "id": "incomplete-difficulty",
   "metadata": {},
   "outputs": [],
   "source": []
  }
 ],
 "metadata": {
  "kernelspec": {
   "display_name": "Python 3",
   "language": "python",
   "name": "python3"
  },
  "language_info": {
   "codemirror_mode": {
    "name": "ipython",
    "version": 3
   },
   "file_extension": ".py",
   "mimetype": "text/x-python",
   "name": "python",
   "nbconvert_exporter": "python",
   "pygments_lexer": "ipython3",
   "version": "3.9.0"
  }
 },
 "nbformat": 4,
 "nbformat_minor": 5
}
